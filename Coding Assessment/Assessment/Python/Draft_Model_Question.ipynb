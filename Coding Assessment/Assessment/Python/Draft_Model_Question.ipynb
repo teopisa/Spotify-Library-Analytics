{
 "cells": [
  {
   "cell_type": "markdown",
   "source": [
    "You previously answered how you would approach building a machine learning model to predict which NCAA players will become good NBA players. You are now given a dataset that contains publicly available data. The dataset `college_data.csv` contains 50 NBA players and their college stats. You'll notice that many of these players have multiple rows of data. This is because these players have multiple seasons of college data.\n",
    "\n",
    "Your task is to create a dataframe using Python where each player only has one row of data that represents their entire college career.  Please put comments throughout your code to explain your thought process. Only use data from `college_data.csv` in your answer. \n",
    "\n",
    "\n",
    "**When you have finished your code, copy your code to the Python text box on your assessment.**\n"
   ],
   "metadata": {
    "collapsed": false
   },
   "id": "da2ebc0e7da2424"
  },
  {
   "cell_type": "code",
   "outputs": [
    {
     "data": {
      "text/plain": "          Player_Name  Player_id   Age Position  Height  Weight  \\\n0         Alex Caruso          0  22.1       PG      77     188   \n1         Alex Caruso          0  21.1       PG      77     188   \n2         Alex Caruso          0  20.1       PG      77     188   \n3         Alex Caruso          0  19.1       PG      77     188   \n4      Andre Roberson          1  21.3       PF      79     206   \n..                ...        ...   ...      ...     ...     ...   \n93  Tyrese Haliburton         49  20.1       PG      77     175   \n94  Tyrese Haliburton         49  19.1       PG      77     175   \n95     Victor Oladipo         50  20.9       SG      76     213   \n96     Victor Oladipo         50  19.9       SG      76     213   \n97     Victor Oladipo         50  18.9       SG      76     213   \n\n    Season_Number  Total_Minutes_Played  USG_Percentage  TOV_Percentage  \\\n0               4                  1067        0.156478        0.258467   \n1               3                  1038        0.190553        0.270651   \n2               2                  1013        0.193751        0.235400   \n3               1                   833        0.187925        0.269848   \n4               3                  1036        0.198937        0.188718   \n..            ...                   ...             ...             ...   \n93              2                   806        0.201699        0.187808   \n94              1                  1163        0.091882        0.135633   \n95              3                  1021        0.221724        0.185018   \n96              2                   961        0.231846        0.177421   \n97              1                   576        0.225637        0.181518   \n\n    OREB_Percentage  DREB_Percentage  AST_Percentage  STL_Percentage  \\\n0          0.042344         0.099221        0.311484        0.042601   \n1          0.028109         0.140754        0.348483        0.042056   \n2          0.017365         0.121104        0.367084        0.043292   \n3          0.037924         0.129736        0.275589        0.050620   \n4          0.105571         0.270531        0.094164        0.040123   \n..              ...              ...             ...             ...   \n93         0.045643         0.137495        0.353895        0.038798   \n94         0.027354         0.088743        0.173001        0.027593   \n95         0.117401         0.140149        0.151753        0.046426   \n96         0.086926         0.153686        0.146785        0.031078   \n97         0.120910         0.160192        0.105395        0.036648   \n\n    BLK_Percentage  \n0         0.015509  \n1         0.002560  \n2         0.033405  \n3         0.023838  \n4         0.043539  \n..             ...  \n93        0.019871  \n94        0.028345  \n95        0.028323  \n96        0.023138  \n97        0.014636  \n\n[98 rows x 15 columns]",
      "text/html": "<div>\n<style scoped>\n    .dataframe tbody tr th:only-of-type {\n        vertical-align: middle;\n    }\n\n    .dataframe tbody tr th {\n        vertical-align: top;\n    }\n\n    .dataframe thead th {\n        text-align: right;\n    }\n</style>\n<table border=\"1\" class=\"dataframe\">\n  <thead>\n    <tr style=\"text-align: right;\">\n      <th></th>\n      <th>Player_Name</th>\n      <th>Player_id</th>\n      <th>Age</th>\n      <th>Position</th>\n      <th>Height</th>\n      <th>Weight</th>\n      <th>Season_Number</th>\n      <th>Total_Minutes_Played</th>\n      <th>USG_Percentage</th>\n      <th>TOV_Percentage</th>\n      <th>OREB_Percentage</th>\n      <th>DREB_Percentage</th>\n      <th>AST_Percentage</th>\n      <th>STL_Percentage</th>\n      <th>BLK_Percentage</th>\n    </tr>\n  </thead>\n  <tbody>\n    <tr>\n      <th>0</th>\n      <td>Alex Caruso</td>\n      <td>0</td>\n      <td>22.1</td>\n      <td>PG</td>\n      <td>77</td>\n      <td>188</td>\n      <td>4</td>\n      <td>1067</td>\n      <td>0.156478</td>\n      <td>0.258467</td>\n      <td>0.042344</td>\n      <td>0.099221</td>\n      <td>0.311484</td>\n      <td>0.042601</td>\n      <td>0.015509</td>\n    </tr>\n    <tr>\n      <th>1</th>\n      <td>Alex Caruso</td>\n      <td>0</td>\n      <td>21.1</td>\n      <td>PG</td>\n      <td>77</td>\n      <td>188</td>\n      <td>3</td>\n      <td>1038</td>\n      <td>0.190553</td>\n      <td>0.270651</td>\n      <td>0.028109</td>\n      <td>0.140754</td>\n      <td>0.348483</td>\n      <td>0.042056</td>\n      <td>0.002560</td>\n    </tr>\n    <tr>\n      <th>2</th>\n      <td>Alex Caruso</td>\n      <td>0</td>\n      <td>20.1</td>\n      <td>PG</td>\n      <td>77</td>\n      <td>188</td>\n      <td>2</td>\n      <td>1013</td>\n      <td>0.193751</td>\n      <td>0.235400</td>\n      <td>0.017365</td>\n      <td>0.121104</td>\n      <td>0.367084</td>\n      <td>0.043292</td>\n      <td>0.033405</td>\n    </tr>\n    <tr>\n      <th>3</th>\n      <td>Alex Caruso</td>\n      <td>0</td>\n      <td>19.1</td>\n      <td>PG</td>\n      <td>77</td>\n      <td>188</td>\n      <td>1</td>\n      <td>833</td>\n      <td>0.187925</td>\n      <td>0.269848</td>\n      <td>0.037924</td>\n      <td>0.129736</td>\n      <td>0.275589</td>\n      <td>0.050620</td>\n      <td>0.023838</td>\n    </tr>\n    <tr>\n      <th>4</th>\n      <td>Andre Roberson</td>\n      <td>1</td>\n      <td>21.3</td>\n      <td>PF</td>\n      <td>79</td>\n      <td>206</td>\n      <td>3</td>\n      <td>1036</td>\n      <td>0.198937</td>\n      <td>0.188718</td>\n      <td>0.105571</td>\n      <td>0.270531</td>\n      <td>0.094164</td>\n      <td>0.040123</td>\n      <td>0.043539</td>\n    </tr>\n    <tr>\n      <th>...</th>\n      <td>...</td>\n      <td>...</td>\n      <td>...</td>\n      <td>...</td>\n      <td>...</td>\n      <td>...</td>\n      <td>...</td>\n      <td>...</td>\n      <td>...</td>\n      <td>...</td>\n      <td>...</td>\n      <td>...</td>\n      <td>...</td>\n      <td>...</td>\n      <td>...</td>\n    </tr>\n    <tr>\n      <th>93</th>\n      <td>Tyrese Haliburton</td>\n      <td>49</td>\n      <td>20.1</td>\n      <td>PG</td>\n      <td>77</td>\n      <td>175</td>\n      <td>2</td>\n      <td>806</td>\n      <td>0.201699</td>\n      <td>0.187808</td>\n      <td>0.045643</td>\n      <td>0.137495</td>\n      <td>0.353895</td>\n      <td>0.038798</td>\n      <td>0.019871</td>\n    </tr>\n    <tr>\n      <th>94</th>\n      <td>Tyrese Haliburton</td>\n      <td>49</td>\n      <td>19.1</td>\n      <td>PG</td>\n      <td>77</td>\n      <td>175</td>\n      <td>1</td>\n      <td>1163</td>\n      <td>0.091882</td>\n      <td>0.135633</td>\n      <td>0.027354</td>\n      <td>0.088743</td>\n      <td>0.173001</td>\n      <td>0.027593</td>\n      <td>0.028345</td>\n    </tr>\n    <tr>\n      <th>95</th>\n      <td>Victor Oladipo</td>\n      <td>50</td>\n      <td>20.9</td>\n      <td>SG</td>\n      <td>76</td>\n      <td>213</td>\n      <td>3</td>\n      <td>1021</td>\n      <td>0.221724</td>\n      <td>0.185018</td>\n      <td>0.117401</td>\n      <td>0.140149</td>\n      <td>0.151753</td>\n      <td>0.046426</td>\n      <td>0.028323</td>\n    </tr>\n    <tr>\n      <th>96</th>\n      <td>Victor Oladipo</td>\n      <td>50</td>\n      <td>19.9</td>\n      <td>SG</td>\n      <td>76</td>\n      <td>213</td>\n      <td>2</td>\n      <td>961</td>\n      <td>0.231846</td>\n      <td>0.177421</td>\n      <td>0.086926</td>\n      <td>0.153686</td>\n      <td>0.146785</td>\n      <td>0.031078</td>\n      <td>0.023138</td>\n    </tr>\n    <tr>\n      <th>97</th>\n      <td>Victor Oladipo</td>\n      <td>50</td>\n      <td>18.9</td>\n      <td>SG</td>\n      <td>76</td>\n      <td>213</td>\n      <td>1</td>\n      <td>576</td>\n      <td>0.225637</td>\n      <td>0.181518</td>\n      <td>0.120910</td>\n      <td>0.160192</td>\n      <td>0.105395</td>\n      <td>0.036648</td>\n      <td>0.014636</td>\n    </tr>\n  </tbody>\n</table>\n<p>98 rows × 15 columns</p>\n</div>"
     },
     "metadata": {},
     "output_type": "display_data"
    }
   ],
   "source": [
    "import pandas as pd\n",
    "\n",
    "# Import data\n",
    "df = pd.read_csv(\"college_data.csv\")\n",
    "display(df)\n"
   ],
   "metadata": {
    "collapsed": false,
    "ExecuteTime": {
     "end_time": "2024-08-15T17:09:05.496999Z",
     "start_time": "2024-08-15T17:09:05.483189Z"
    }
   },
   "id": "initial_id",
   "execution_count": 9
  },
  {
   "cell_type": "code",
   "outputs": [],
   "source": [],
   "metadata": {
    "collapsed": false
   },
   "id": "819311a87ede8e96"
  }
 ],
 "metadata": {
  "kernelspec": {
   "display_name": "Python 3",
   "language": "python",
   "name": "python3"
  },
  "language_info": {
   "codemirror_mode": {
    "name": "ipython",
    "version": 2
   },
   "file_extension": ".py",
   "mimetype": "text/x-python",
   "name": "python",
   "nbconvert_exporter": "python",
   "pygments_lexer": "ipython2",
   "version": "2.7.6"
  }
 },
 "nbformat": 4,
 "nbformat_minor": 5
}
