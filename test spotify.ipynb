{
 "cells": [
  {
   "cell_type": "code",
   "execution_count": null,
   "metadata": {},
   "outputs": [],
   "source": [
    "filename = 'music_that_tickles_my_fancy.csv'\n",
    "\n",
    "from matplotlib import pyplot\n",
    "import seaborn\n",
    "import pandas\n",
    "from collections import defaultdict\n",
    "from scipy.stats import pareto, gamma\n",
    "from datetime import date\n",
    "\n",
    "\n",
    "# read the data\n",
    "data = pandas.read_csv('all_music.csv')\n",
    "print(\"total songs:\", data.shape[0])\n",
    "\n",
    "data = pandas.DataFrame(data)\n",
    "# print(data[:3])"
   ]
  },
  {
   "cell_type": "code",
   "execution_count": null,
   "metadata": {},
   "outputs": [],
   "source": []
  }
 ],
 "metadata": {
  "language_info": {
   "name": "python"
  }
 },
 "nbformat": 4,
 "nbformat_minor": 2
}
